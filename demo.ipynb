{
 "cells": [
  {
   "cell_type": "code",
   "execution_count": 1,
   "metadata": {},
   "outputs": [
    {
     "name": "stderr",
     "output_type": "stream",
     "text": [
      "Matplotlib is building the font cache; this may take a moment.\n"
     ]
    }
   ],
   "source": [
    "import os\n",
    "import numpy as np\n",
    "import pandas as pd\n",
    "import matplotlib.pyplot as plt\n",
    "import json\n",
    "import sed_eval\n",
    "import dcase_util\n",
    "import librosa\n",
    "import warnings\n",
    "warnings.filterwarnings('ignore')"
   ]
  },
  {
   "cell_type": "code",
   "execution_count": null,
   "metadata": {},
   "outputs": [
    {
     "ename": "",
     "evalue": "",
     "output_type": "error",
     "traceback": [
      "\u001b[1;31mRunning cells with 'dcase (Python 3.6.13)' requires the ipykernel package.\n",
      "\u001b[1;31mRun the following command to install 'ipykernel' into the Python environment. \n",
      "\u001b[1;31mCommand: 'conda install -n dcase ipykernel --update-deps --force-reinstall'"
     ]
    }
   ],
   "source": [
    "from dcase_models.data.datasets import ESC50Dataset  \n"
   ]
  },
  {
   "cell_type": "code",
   "execution_count": 2,
   "metadata": {},
   "outputs": [],
   "source": [
    "# Định nghĩa đường dẫn\n",
    "DATASET_PATH = 'ESC-50'\n",
    "WORKSPACE = 'workspace'\n",
    "FEATURES_PATH = os.path.join(WORKSPACE, 'features')\n",
    "MODELS_PATH = os.path.join(WORKSPACE, 'models')\n",
    "LOG_FOLDER = os.path.join(WORKSPACE, 'log')\n",
    "RESULTS_PATH = os.path.join(WORKSPACE, 'results')"
   ]
  },
  {
   "cell_type": "code",
   "execution_count": 12,
   "metadata": {},
   "outputs": [
    {
     "ename": "NameError",
     "evalue": "name 'ESC50Dataset' is not defined",
     "output_type": "error",
     "traceback": [
      "\u001b[1;31m---------------------------------------------------------------------------\u001b[0m",
      "\u001b[1;31mNameError\u001b[0m                                 Traceback (most recent call last)",
      "Cell \u001b[1;32mIn[12], line 10\u001b[0m\n\u001b[0;32m      6\u001b[0m     os\u001b[38;5;241m.\u001b[39mmakedirs(directory, exist_ok\u001b[38;5;241m=\u001b[39m\u001b[38;5;28;01mTrue\u001b[39;00m)\n\u001b[0;32m      9\u001b[0m \u001b[38;5;66;03m# Khởi tạo dataset\u001b[39;00m\n\u001b[1;32m---> 10\u001b[0m dataset \u001b[38;5;241m=\u001b[39m \u001b[43mESC50Dataset\u001b[49m(DATASET_PATH) \u001b[38;5;66;03m# type: ignore\u001b[39;00m\n\u001b[0;32m     12\u001b[0m \u001b[38;5;66;03m# Thông tin dataset với dcase_util\u001b[39;00m\n\u001b[0;32m     13\u001b[0m dataset_info \u001b[38;5;241m=\u001b[39m dcase_util\u001b[38;5;241m.\u001b[39mdatasets\u001b[38;5;241m.\u001b[39mdataset\u001b[38;5;241m.\u001b[39mDataset(\n\u001b[0;32m     14\u001b[0m     name\u001b[38;5;241m=\u001b[39m\u001b[38;5;124m'\u001b[39m\u001b[38;5;124mESC-50\u001b[39m\u001b[38;5;124m'\u001b[39m,\n\u001b[0;32m     15\u001b[0m     storage_path\u001b[38;5;241m=\u001b[39mDATASET_PATH,\n\u001b[0;32m     16\u001b[0m     meta_filename\u001b[38;5;241m=\u001b[39m\u001b[38;5;124m'\u001b[39m\u001b[38;5;124mmeta/esc50.csv\u001b[39m\u001b[38;5;124m'\u001b[39m\n\u001b[0;32m     17\u001b[0m )\n",
      "\u001b[1;31mNameError\u001b[0m: name 'ESC50Dataset' is not defined"
     ]
    }
   ],
   "source": [
    "# PHẦN 1: KHỞI TẠO VÀ CẤU HÌNH\n",
    "# =============================================================================\n",
    "\n",
    "# Tạo các thư mục cần thiết\n",
    "for directory in [WORKSPACE, FEATURES_PATH, MODELS_PATH, LOG_FOLDER, RESULTS_PATH]:\n",
    "    os.makedirs(directory, exist_ok=True)\n",
    "\n",
    "\n",
    "# Khởi tạo dataset\n",
    "dataset = ESC50Dataset(DATASET_PATH) # type: ignore\n",
    "\n",
    "# Thông tin dataset với dcase_util\n",
    "dataset_info = dcase_util.datasets.dataset.Dataset(\n",
    "    name='ESC-50',\n",
    "    storage_path=DATASET_PATH,\n",
    "    meta_filename='meta/esc50.csv'\n",
    ")\n",
    "\n",
    "# Hiển thị thông tin dataset\n",
    "log.info(f'Tổng số mẫu: {dataset.get_total_samples()}')\n",
    "log.info(f'Số lớp: {len(dataset.get_classes())}')\n",
    "log.info(f'Các lớp: {dataset.get_classes()}')"
   ]
  }
 ],
 "metadata": {
  "kernelspec": {
   "display_name": "Python 3",
   "language": "python",
   "name": "python3"
  },
  "language_info": {
   "codemirror_mode": {
    "name": "ipython",
    "version": 3
   },
   "file_extension": ".py",
   "mimetype": "text/x-python",
   "name": "python",
   "nbconvert_exporter": "python",
   "pygments_lexer": "ipython3",
   "version": "3.12.4"
  }
 },
 "nbformat": 4,
 "nbformat_minor": 2
}
